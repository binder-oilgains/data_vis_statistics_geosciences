{
 "cells": [
  {
   "cell_type": "markdown",
   "metadata": {},
   "source": [
    "# Lab One - Climatic Averages \n",
    "\n",
    "## *Analyzing the Global Temperatures Divergence from Average from 1880 - 2017*\n",
    "\n",
    "In this lab we learn part 1 basics of Python (the programming commands) for data analysis through utilizing the Jupyter environment (this display) to analyze data. \n",
    "\n",
    "You will learn how to: \n",
    "\n",
    "\n",
    "- Use Jupyter\n",
    "- Read in a CSV (comma seperated data file) into a data format for analysis\n",
    "- Implement Simple Flow Structures (for loops, if statements)\n",
    "- Plotting Basics (line plots, bar charts, and colors)\n",
    "- Indexing (simple, and boolean indexing)\n",
    "- Use the following data structures: numpy arrays (1D) and Pandas dataframes (2D)\n",
    "- Use hex codes for colors\n",
    "\n",
    "By the end of this lab you should be able to: read in simple data from CSV, use boolean indexing, and make a line plot / bar chart\n",
    "\n",
    "Additional materials for reading and reference: Igual & Seguí Chapter 1 Chapter 2: Sections 2.1 through 2.6.2 \n",
    "\n",
    "More on Jupyter here:\n",
    "    http://jupyter-notebook.readthedocs.io/en/stable/notebook.html"
   ]
  },
  {
   "cell_type": "markdown",
   "metadata": {},
   "source": [
    "## *Part 1 - What is Jupyter?*\n",
    "\n",
    "\n",
    "\n",
    "Jupyter is a interactive environment (for example this \"notebook\" is in Jupyter) where we can explore how a programming language ie Python works. I like to think of this as a display format which is mixed text like this box and code in the next box - we will be doing the first lab reports using Jupyter. This is not the only way to run Python. \n",
    "\n",
    "### Running Cells: \n",
    "- You can \"run\" various cells at a time by hitting shift-enter OR by hitting run after selecting a cell through the menu. Note you can run blocks of cells (say before or after a certain line through the Cell tab as well)\n",
    "\n",
    "### Types of Cells: \n",
    "- You can have cells as programming commands or as text. You can switch between programming language and text through the Cell -> Markdown option. \n",
    "\n",
    "### Editing Cells: \n",
    "- To edit a cell - double click in the cell to interact with the program. \n",
    "\n",
    "\n",
    "### Interactive Exercise 1!\n",
    "\n",
    "Let's try this out! We have two blank cells below. In the first cell type the following: \n",
    "print('Python is awesome')\n",
    "\n",
    "In the next cell type the same words, but this time switch the cell to \"Markdown\" through the cell menu. \n",
    "\n",
    "Then run both cells through typing Shift+Enter OR Chitting the Run button above. \n",
    "\n",
    "When you are done please put your nametag down. We will discuss shortly!"
   ]
  },
  {
   "cell_type": "code",
   "execution_count": 3,
   "metadata": {},
   "outputs": [],
   "source": [
    "#this is cell one - type your commands below\n",
    "\n",
    "#note - in Python a '#' is a comment, anything after this \n",
    "#will not be evaluated as a command\n",
    "\n",
    "\n",
    "\n",
    "\n"
   ]
  },
  {
   "cell_type": "code",
   "execution_count": 4,
   "metadata": {},
   "outputs": [],
   "source": [
    "#this is cell two - type your commands below\n",
    "\n",
    "\n",
    "\n",
    "\n",
    "\n"
   ]
  },
  {
   "cell_type": "markdown",
   "metadata": {},
   "source": [
    "'\n",
    "\n",
    "''\n",
    "\n",
    "'''\n",
    "\n",
    "''''\n",
    "\n",
    "'''''\n",
    "\n",
    "''''''\n",
    "\n",
    "'''''\n",
    "\n",
    "''''\n",
    "\n",
    "'''\n",
    "\n",
    "''\n",
    "\n",
    "'\n",
    "\n",
    "\n",
    "\n",
    "\n",
    "\n",
    "\n",
    "\n",
    "### Why are we using Jupyter? \n",
    "\n",
    "There are many ways to use Python. We are starting with Jupyter because (1) it allows us to learn together, (2) by using Jupyter you can enable a lot of self-learning (post class) on your own, and finally (3) your lab reports are much more interesting to complete. You get to turn in great notebooks that are pre-evaluated. This means if you wrote half your code down but half didn't work, we can still give you partial credit. Wahoo! Becoming a coding expert takes time and effort, we want to reward this effort.  "
   ]
  },
  {
   "cell_type": "markdown",
   "metadata": {},
   "source": [
    "## *Part 2 - What is Python and why are we using it?*\n",
    "\n",
    "Python is a object oriented programming language. This means it has 'objects' which have certain rules or methods which you can access to run programming. We will see this in action in the first lab. We have already seen the print command above and compared markdown cells to programming cells. \n",
    "\n",
    "### *Part 2. A - Let's start by importing some packages*"
   ]
  },
  {
   "cell_type": "code",
   "execution_count": 5,
   "metadata": {},
   "outputs": [
    {
     "name": "stdout",
     "output_type": "stream",
     "text": [
      "[0 2 4 6 8]\n"
     ]
    }
   ],
   "source": [
    "#think of packages like enabling different levels of a game \n",
    "#the hashtag we use to make a comment, this line can be used so that the computer skips \n",
    "#reading this code\n",
    "\n",
    "import numpy as np\n",
    "import pandas as pd\n",
    "\n",
    "#these two packages enable data analysis through various objects (and their methods) and \n",
    "#data types. \n",
    "\n",
    "#for example, you can create a numpy array - 1D data array - of numbers as follows\n",
    "\n",
    "#this creates an arrange from 0 up to 10 but not including 10, every second value\n",
    "ExampleArray = np.arange(0, 10, 2)\n",
    "\n",
    "#you can see this as follows with the following print command we saw earlier\n",
    "print(ExampleArray)"
   ]
  },
  {
   "cell_type": "code",
   "execution_count": 6,
   "metadata": {},
   "outputs": [
    {
     "data": {
      "text/plain": [
       "numpy.ndarray"
      ]
     },
     "execution_count": 6,
     "metadata": {},
     "output_type": "execute_result"
    }
   ],
   "source": [
    "#each object in python has a type, in this case we see that it is a numpy array.\n",
    "type(ExampleArray)"
   ]
  },
  {
   "cell_type": "code",
   "execution_count": 7,
   "metadata": {},
   "outputs": [
    {
     "name": "stdout",
     "output_type": "stream",
     "text": [
      "0\n",
      "2\n"
     ]
    }
   ],
   "source": [
    "#We can access different values within an array with indexing, for example:\n",
    "\n",
    "print(ExampleArray[0]) #print index 0 value\n",
    "print(ExampleArray[1]) #print index 1 value"
   ]
  },
  {
   "cell_type": "code",
   "execution_count": 8,
   "metadata": {},
   "outputs": [
    {
     "name": "stdout",
     "output_type": "stream",
     "text": [
      "<class 'numpy.int64'>\n",
      "<class 'int'>\n"
     ]
    }
   ],
   "source": [
    "#types also include, integers (non-decimal numbers), floats (decimal numbers), strings (words)\n",
    "\n",
    "#for example\n",
    "print(type(ExampleArray[0]))\n",
    "ExampleInt = 5\n",
    "print(type(ExampleInt))\n",
    "\n",
    "#if you get a type error when you run code, use these type commands to see what is the \n",
    "#issue, most likely you are trying to do something that can not be done to a string, \n",
    "#or an integer etc. \n",
    "\n",
    "#Note the type of this number is an numpy int65\n",
    "#as compared to the type of of Example Int which is JUST int - less accuracy"
   ]
  },
  {
   "cell_type": "markdown",
   "metadata": {},
   "source": [
    "### Interactive Exercise 2!\n",
    "\n",
    "What do you think the printing the index of -1 would output? We saw indexing of 0 and 1 before -\n",
    "in the following cell print the value in the ExampleArray located at -1 index. When done put \n",
    "your nametags down. While you wait for others to finish, what do you think this \n",
    "implies about indexing in Python?\n"
   ]
  },
  {
   "cell_type": "code",
   "execution_count": 9,
   "metadata": {},
   "outputs": [],
   "source": [
    "###write your command below\n",
    "\n",
    "\n"
   ]
  },
  {
   "cell_type": "markdown",
   "metadata": {},
   "source": [
    "'\n",
    "\n",
    "''\n",
    "\n",
    "'''\n",
    "\n",
    "''''\n",
    "\n",
    "'''''\n",
    "\n",
    "''''''\n",
    "\n",
    "'''''\n",
    "\n",
    "''''\n",
    "\n",
    "'''\n",
    "\n",
    "''\n",
    "\n",
    "'\n",
    "\n",
    "### *Part 2. B - Now what about that other package we imported -  Pandas*\n",
    "\n",
    "Pandas is a package which we use to enable data set analysis. There are other data structures within Python that we \n",
    "can use as well, for example numpy arrays, dictionaries, and lists. We will focus right now on pandas dataframes.\n",
    "\n",
    "### What is a Pandas dataframe?\n",
    "\n",
    "A pandas dataframe is a 2D data structure which includes an index and rows and columns of data. These can include ints, floats, strings, etc. \n",
    "\n",
    "A good way to think of a pandas dataframe is an excel spreadsheet which we analyze and interpret with Python. Enough about all this, let's get our hands on some data. \n"
   ]
  },
  {
   "cell_type": "code",
   "execution_count": 10,
   "metadata": {},
   "outputs": [],
   "source": [
    "#within the folder you all downloaded is a data subdirectory with global temperature \n",
    "#anomaly data from following comma seperated values (CSV)\n",
    "\n",
    "#this data is from the following website: \n",
    "#https://www.ncdc.noaa.gov/cag/time-series/global/globe/land/ytd/12/1880-2017\n",
    "\n",
    "#Provided by NOAA National Center for Environmental Information\n",
    "\n",
    "#Global temperature anomaly data come from the Global Historical Climatology \n",
    "#Network-Monthly (GHCN-M) data set and International Comprehensive Ocean-Atmosphere \n",
    "#Data Set (ICOADS), which have data from 1880 to the present. \n",
    "\n",
    "#This data is the timeseries of global-scale temperature anomalies calculated with respect to \n",
    "#the 20th century average.\n",
    "\n",
    "#the following command reads from a csv format into a pandas dataframe called temperVarGlobal\n",
    "\n",
    "#note the header = 4 command, this designates four skipped lines before assigned variables. \n",
    "\n",
    "temperVarGlobal = pd.read_csv('./Data/GlobalLandAndOcean_1880-2017_TempVariants.csv', \n",
    "                              header = 4)"
   ]
  },
  {
   "cell_type": "code",
   "execution_count": 11,
   "metadata": {},
   "outputs": [
    {
     "name": "stdout",
     "output_type": "stream",
     "text": [
      "<class 'pandas.core.frame.DataFrame'>\n"
     ]
    },
    {
     "data": {
      "text/html": [
       "<div>\n",
       "<style scoped>\n",
       "    .dataframe tbody tr th:only-of-type {\n",
       "        vertical-align: middle;\n",
       "    }\n",
       "\n",
       "    .dataframe tbody tr th {\n",
       "        vertical-align: top;\n",
       "    }\n",
       "\n",
       "    .dataframe thead th {\n",
       "        text-align: right;\n",
       "    }\n",
       "</style>\n",
       "<table border=\"1\" class=\"dataframe\">\n",
       "  <thead>\n",
       "    <tr style=\"text-align: right;\">\n",
       "      <th></th>\n",
       "      <th>Year</th>\n",
       "      <th>Value</th>\n",
       "    </tr>\n",
       "  </thead>\n",
       "  <tbody>\n",
       "    <tr>\n",
       "      <th>0</th>\n",
       "      <td>1880</td>\n",
       "      <td>-0.13</td>\n",
       "    </tr>\n",
       "    <tr>\n",
       "      <th>1</th>\n",
       "      <td>1881</td>\n",
       "      <td>-0.07</td>\n",
       "    </tr>\n",
       "    <tr>\n",
       "      <th>2</th>\n",
       "      <td>1882</td>\n",
       "      <td>-0.07</td>\n",
       "    </tr>\n",
       "    <tr>\n",
       "      <th>3</th>\n",
       "      <td>1883</td>\n",
       "      <td>-0.15</td>\n",
       "    </tr>\n",
       "    <tr>\n",
       "      <th>4</th>\n",
       "      <td>1884</td>\n",
       "      <td>-0.21</td>\n",
       "    </tr>\n",
       "    <tr>\n",
       "      <th>5</th>\n",
       "      <td>1885</td>\n",
       "      <td>-0.22</td>\n",
       "    </tr>\n",
       "    <tr>\n",
       "      <th>6</th>\n",
       "      <td>1886</td>\n",
       "      <td>-0.21</td>\n",
       "    </tr>\n",
       "    <tr>\n",
       "      <th>7</th>\n",
       "      <td>1887</td>\n",
       "      <td>-0.25</td>\n",
       "    </tr>\n",
       "    <tr>\n",
       "      <th>8</th>\n",
       "      <td>1888</td>\n",
       "      <td>-0.15</td>\n",
       "    </tr>\n",
       "    <tr>\n",
       "      <th>9</th>\n",
       "      <td>1889</td>\n",
       "      <td>-0.10</td>\n",
       "    </tr>\n",
       "  </tbody>\n",
       "</table>\n",
       "</div>"
      ],
      "text/plain": [
       "   Year  Value\n",
       "0  1880  -0.13\n",
       "1  1881  -0.07\n",
       "2  1882  -0.07\n",
       "3  1883  -0.15\n",
       "4  1884  -0.21\n",
       "5  1885  -0.22\n",
       "6  1886  -0.21\n",
       "7  1887  -0.25\n",
       "8  1888  -0.15\n",
       "9  1889  -0.10"
      ]
     },
     "execution_count": 11,
     "metadata": {},
     "output_type": "execute_result"
    }
   ],
   "source": [
    "#let see if this was read in correctly - you should ALWAYS do this to make sure you read this in. \n",
    "\n",
    "#check the type - should be a dataframe\n",
    "print(type(temperVarGlobal))\n",
    "\n",
    "#check the first 10 rows\n",
    "#notice, it still prints it? \n",
    "#This is a Jupyter specific functionality.\n",
    "temperVarGlobal.head(n=10)\n",
    "\n",
    "#here you can see on the left hand side the index values, followed by the year, then Value. \n",
    "#This data did NOT provide a nice column name for the rows in the CSV file so we have the \n",
    "#'Value'.\n",
    "\n",
    "#given the information above and at the website we know that this is the temperature anomoly \n",
    "#for Earth for each year in Celcius"
   ]
  },
  {
   "cell_type": "code",
   "execution_count": 12,
   "metadata": {},
   "outputs": [
    {
     "name": "stdout",
     "output_type": "stream",
     "text": [
      "Index(['Year', 'Value'], dtype='object')\n"
     ]
    }
   ],
   "source": [
    "#you can also check the column values as follows:\n",
    "\n",
    "print(temperVarGlobal.columns)"
   ]
  },
  {
   "cell_type": "code",
   "execution_count": 13,
   "metadata": {},
   "outputs": [
    {
     "name": "stdout",
     "output_type": "stream",
     "text": [
      "Index(['Year', 'AnomalyC'], dtype='object')\n"
     ]
    }
   ],
   "source": [
    "#let's rename the column so it's not a vague \"Value\"\n",
    "\n",
    "temperVarGlobal.rename(columns={'Value': 'AnomalyC'}, inplace=True)\n",
    "#inplace = True is to prevent redefining a NEW dataframe object\n",
    "\n",
    "\n",
    "#let's check the columns\n",
    "print(temperVarGlobal.columns)"
   ]
  },
  {
   "cell_type": "code",
   "execution_count": 14,
   "metadata": {},
   "outputs": [
    {
     "name": "stdout",
     "output_type": "stream",
     "text": [
      "-0.1\n"
     ]
    }
   ],
   "source": [
    "#how about for fun, let's check the 50'th entry?\n",
    "print(temperVarGlobal.loc[50, 'AnomalyC'])"
   ]
  },
  {
   "cell_type": "code",
   "execution_count": 15,
   "metadata": {},
   "outputs": [
    {
     "name": "stdout",
     "output_type": "stream",
     "text": [
      "Year        1930.0\n",
      "AnomalyC      -0.1\n",
      "Name: 50, dtype: float64\n"
     ]
    }
   ],
   "source": [
    "#what about the entire row?\n",
    "print(temperVarGlobal.loc[50, :])\n",
    "\n"
   ]
  },
  {
   "cell_type": "markdown",
   "metadata": {},
   "source": [
    "### Put your nametag down when you have reached this point. Can you guess what : does within this example?\n",
    "'\n",
    "\n",
    "''\n",
    "\n",
    "'''\n",
    "\n",
    "''''\n",
    "\n",
    "'''\n",
    "\n",
    "''\n",
    "\n",
    "'"
   ]
  },
  {
   "cell_type": "markdown",
   "metadata": {},
   "source": [
    "### *Part 2. C - Adding Values into a Dataframe*\n",
    "\n",
    "### Our temperatures are in Celcius, maybe it would make sense to create a column in Farenheit?\n",
    "\n",
    "Formula is: T(F) = T(C) × 1.8 for a temperature difference we skip  adding 32"
   ]
  },
  {
   "cell_type": "code",
   "execution_count": 16,
   "metadata": {},
   "outputs": [
    {
     "name": "stdout",
     "output_type": "stream",
     "text": [
      "   Year  AnomalyC  AnomalyF\n",
      "0  1880     -0.13    -0.234\n",
      "1  1881     -0.07    -0.126\n",
      "2  1882     -0.07    -0.126\n",
      "3  1883     -0.15    -0.270\n",
      "4  1884     -0.21    -0.378\n",
      "5  1885     -0.22    -0.396\n",
      "6  1886     -0.21    -0.378\n",
      "7  1887     -0.25    -0.450\n",
      "8  1888     -0.15    -0.270\n",
      "9  1889     -0.10    -0.180\n"
     ]
    }
   ],
   "source": [
    "#here we define a NEW columns based off the old column\n",
    "temperVarGlobal['AnomalyF'] = temperVarGlobal['AnomalyC'] * 1.8\n",
    "\n",
    "#let's make sure this did what we wanted\n",
    "print(temperVarGlobal.head(n=10))"
   ]
  },
  {
   "cell_type": "markdown",
   "metadata": {},
   "source": [
    "### We will pause here to discuss what questions have on Pandas or Numpy.\n",
    "\n",
    "'\n",
    "\n",
    "''\n",
    "\n",
    "'''\n",
    "\n",
    "''''\n",
    "\n",
    "'''\n",
    "\n",
    "''\n",
    " \n",
    "'"
   ]
  },
  {
   "cell_type": "markdown",
   "metadata": {},
   "source": [
    "## *Part 3. Basic Plotting*"
   ]
  },
  {
   "cell_type": "code",
   "execution_count": 17,
   "metadata": {},
   "outputs": [],
   "source": [
    "#step one, we import a plotting package\n",
    "import matplotlib.pyplot as plt\n",
    "\n",
    "#and to enable our visualization Jupyter to print our plots IN LINE (aka to be shown within the notebook) \n",
    "#we use the following command\n",
    "%matplotlib inline"
   ]
  },
  {
   "cell_type": "code",
   "execution_count": 18,
   "metadata": {},
   "outputs": [
    {
     "data": {
      "text/plain": [
       "Text(0.5,0,'Year')"
      ]
     },
     "execution_count": 18,
     "metadata": {},
     "output_type": "execute_result"
    },
    {
     "data": {
      "image/png": "[encoded data removed]",
      "text/plain": [
       "<matplotlib.figure.Figure at 0x1133b3e80>"
      ]
     },
     "metadata": {},
     "output_type": "display_data"
    }
   ],
   "source": [
    "#define a figure (think of this as a page)\n",
    "fig = plt.figure(figsize=(10, 5))\n",
    "\n",
    "#let's give it a title\n",
    "fig.suptitle('Temperature Variants From 1880 - 2017 Global Averages', fontsize=20)\n",
    "\n",
    "#lets just make a line plot, worry about everything else later\n",
    "plt.plot(temperVarGlobal['Year'], temperVarGlobal['AnomalyF'])\n",
    "\n",
    "#and label some axis. \n",
    "plt.ylabel('Anomaly $\\degree$F', fontsize = 20)\n",
    "plt.xlabel('Year', fontsize = 20)\n",
    "\n",
    "#SPECIAL NOTE using $COMMANDS$  in a text entry will enable mathematical symbols through\n",
    "#Latex - see special enabled commands here: \n",
    "#https://oeis.org/wiki/List_of_LaTeX_mathematical_symbols"
   ]
  },
  {
   "cell_type": "markdown",
   "metadata": {},
   "source": [
    "### We will pause here to discuss our opinions on this plot.\n",
    "\n",
    "'\n",
    "\n",
    "''\n",
    "\n",
    "'''\n",
    "\n",
    "''''\n",
    "\n",
    "'''\n",
    "\n",
    "''\n",
    " \n",
    "'"
   ]
  },
  {
   "cell_type": "code",
   "execution_count": 19,
   "metadata": {},
   "outputs": [
    {
     "data": {
      "image/png": "[encoded data removed]",
      "text/plain": [
       "<matplotlib.figure.Figure at 0x113401b00>"
      ]
     },
     "metadata": {},
     "output_type": "display_data"
    }
   ],
   "source": [
    "fig = plt.figure(figsize=(10, 5))\n",
    "fig.suptitle('Temperature Variants From 1880 - 2017 Global Averages', fontsize=20)\n",
    "\n",
    "plt.plot(temperVarGlobal['Year'], temperVarGlobal['AnomalyF'])\n",
    "\n",
    "plt.ylabel('Anomaly $\\degree$F', fontsize = 20)\n",
    "plt.xlabel('Year', fontsize = 20)\n",
    "\n",
    "\n",
    "#----------------------------------------- we add the following to our code\n",
    "plt.xticks(fontsize=16) #make the xaxis labels larger\n",
    "plt.yticks(fontsize=16) #make the yaxis labels larger\n",
    "plt.axhline(y=0.0, color='k', linestyle='--') #add a horizontal line at 0\n",
    "plt.grid(color='gray', linestyle='dashed') #add a grid so it's easier to tell if at zero\n",
    "#-----------------------------------------\n"
   ]
  },
  {
   "cell_type": "markdown",
   "metadata": {},
   "source": [
    "\n",
    "### What we lose here in terms of the information presented is that we KNOW that each point has a definitive width of 1 year, it's an average over that year, the chaotic behavior of the line is more misleading than informative. A bar chart would fix this issue. Go ahead and try out the next plot block. \n",
    "\n",
    "'\n",
    "\n",
    "''\n",
    "\n",
    "'''\n",
    "\n",
    "''''\n",
    "\n",
    "'''\n",
    "\n",
    "''\n",
    " \n",
    "'\n"
   ]
  },
  {
   "cell_type": "code",
   "execution_count": 20,
   "metadata": {},
   "outputs": [
    {
     "data": {
      "image/png": "[encoded data removed]",
      "text/plain": [
       "<matplotlib.figure.Figure at 0x113488550>"
      ]
     },
     "metadata": {},
     "output_type": "display_data"
    }
   ],
   "source": [
    "fig = plt.figure(figsize=(10, 5))\n",
    "fig.suptitle('Temperature Variants From 1880 - 2017 Global Averages', fontsize=20)\n",
    "\n",
    "#----------------------------------------- we have edited this into a bar chart\n",
    "\n",
    "#note we make it purple for fun ;)\n",
    "#also the align = 'edge' will align to the left side of the range\n",
    "#width = 0.8 rather than 1 simply to make it appear more interesting. Go ahead and play \n",
    "#with the width to see why it's at 0.8\n",
    "plt.bar(temperVarGlobal['Year'], temperVarGlobal['AnomalyF'], width = 0.8, align='edge', \n",
    "        color = 'purple')\n",
    "#----------------------------------------- \n",
    "plt.ylabel('Anomaly $\\degree$F', fontsize = 20)\n",
    "plt.xlabel('Year', fontsize = 20)\n",
    "\n",
    "plt.xticks(fontsize=16)\n",
    "plt.yticks(fontsize=16)\n",
    "plt.axhline(y=0.0, color='k', linestyle='--')\n",
    "\n",
    "plt.grid(color='gray', linestyle='dashed')\n"
   ]
  },
  {
   "cell_type": "markdown",
   "metadata": {},
   "source": [
    "## *Part 4 - More advanced plotting*\n",
    "\n",
    "So while purple was fun, that's not really the main message of this chart. We want to show when it's greater than zero, and less than zero. It would be best if these were actually different colors.\n",
    "\n",
    "Remember how we set this equal to purple? We can also assign a column JUST for colors in our dataframe so that each bar could have different colors when we plot it. There are two more obvious ways to go about this. In both ways our goal is to create a NEW column in the data frame with the colors of the bars where if less than zero we make blue ('b'), greater than we make red ('r').\n",
    "\n",
    "#### Turn to the person next to you, introduce yourself! Come up with an idea of how you would do this. Do not look below to gain inspiration. Be ready to disucss with the class. \n",
    "\n",
    "\n",
    "\n",
    "'\n",
    "\n",
    "''\n",
    "\n",
    "\n",
    "'''\n",
    "\n",
    "''''\n",
    "\n",
    "'''\n",
    "\n",
    "''\n",
    "\n",
    "'"
   ]
  },
  {
   "cell_type": "markdown",
   "metadata": {},
   "source": [
    "The two ways we are going to learn in this laboratory are as follows. \n",
    "\n",
    "Way 1)\n",
    "\n",
    "- The tried and true brute force method of using a for loop to loop over every data value in our array, create a new column, and fill with what color we want it to be. \n",
    "\n",
    "Way 2)\n",
    "\n",
    "- Slightly more \"pythonic\" way, ie it uses the inbuilt methods of objects (in this case dataframes) to avoid writing extensive loop structures\n",
    "\n",
    "\n",
    "Let's start with way one. "
   ]
  },
  {
   "cell_type": "markdown",
   "metadata": {},
   "source": [
    "### *Part 4. A. METHOD ONE  - For Loops.*"
   ]
  },
  {
   "cell_type": "code",
   "execution_count": 21,
   "metadata": {},
   "outputs": [
    {
     "name": "stdout",
     "output_type": "stream",
     "text": [
      "The value of the array is 0.\n",
      "The value of the array is 2.\n",
      "The value of the array is 4.\n",
      "The value of the array is 6.\n",
      "The value of the array is 8.\n"
     ]
    }
   ],
   "source": [
    "\n",
    "#set up new column just for colors, and fill with 'g' for now. We will know if we did \n",
    "#something wrong when we plot it because it will be green\n",
    "temperVarGlobal['Colors'] = 'g'\n",
    "\n",
    "#now we want to \"loop over\" our data frame, setting each value in the frame in the column of \n",
    "#'Colors' to a set value. \n",
    "\n",
    "#what do I mean by a for loop? Here's an example, remember our numpy array from earlier? \n",
    "for i in ExampleArray:\n",
    "    \n",
    "    #print out some text, and what i is\n",
    "    print(\"The value of the array is {}.\".format(i))\n",
    "    "
   ]
  },
  {
   "cell_type": "code",
   "execution_count": 22,
   "metadata": {},
   "outputs": [
    {
     "name": "stdout",
     "output_type": "stream",
     "text": [
      "The value of the array at index 0 is 0.\n",
      "The value of the array at index 1 is 2.\n",
      "The value of the array at index 2 is 4.\n",
      "The value of the array at index 3 is 6.\n",
      "The value of the array at index 4 is 8.\n"
     ]
    }
   ],
   "source": [
    "#what if we want to count each entry? There's a function called enumerate for numpy arrays\n",
    "#note it starts at zero\n",
    "\n",
    "#this will loop over index AND entry\n",
    "for index, entry in enumerate(ExampleArray):\n",
    "    #print out some text, and what i is\n",
    "    print(\"The value of the array at index {} is {}.\".format(index, entry))"
   ]
  },
  {
   "cell_type": "markdown",
   "metadata": {},
   "source": [
    "### Now let's apply what we learned from the for loops to the dataframe."
   ]
  },
  {
   "cell_type": "code",
   "execution_count": 23,
   "metadata": {},
   "outputs": [
    {
     "name": "stdout",
     "output_type": "stream",
     "text": [
      "At index 0 and year 1880 the value of AnomalyF is: -0.234\n",
      "At index 1 and year 1881 the value of AnomalyF is: -0.12600000000000003\n",
      "At index 2 and year 1882 the value of AnomalyF is: -0.12600000000000003\n",
      "At index 3 and year 1883 the value of AnomalyF is: -0.27\n",
      "At index 4 and year 1884 the value of AnomalyF is: -0.378\n",
      "At index 5 and year 1885 the value of AnomalyF is: -0.396\n",
      "At index 6 and year 1886 the value of AnomalyF is: -0.378\n",
      "At index 7 and year 1887 the value of AnomalyF is: -0.45\n",
      "At index 8 and year 1888 the value of AnomalyF is: -0.27\n",
      "At index 9 and year 1889 the value of AnomalyF is: -0.18000000000000002\n",
      "At index 10 and year 1890 the value of AnomalyF is: -0.5760000000000001\n",
      "At index 11 and year 1891 the value of AnomalyF is: -0.45\n",
      "At index 12 and year 1892 the value of AnomalyF is: -0.54\n",
      "At index 13 and year 1893 the value of AnomalyF is: -0.5760000000000001\n",
      "At index 14 and year 1894 the value of AnomalyF is: -0.5040000000000001\n",
      "At index 15 and year 1895 the value of AnomalyF is: -0.41400000000000003\n",
      "At index 16 and year 1896 the value of AnomalyF is: -0.162\n",
      "At index 17 and year 1897 the value of AnomalyF is: -0.216\n",
      "At index 18 and year 1898 the value of AnomalyF is: -0.468\n",
      "At index 19 and year 1899 the value of AnomalyF is: -0.216\n",
      "At index 20 and year 1900 the value of AnomalyF is: -0.12600000000000003\n",
      "At index 21 and year 1901 the value of AnomalyF is: -0.25200000000000006\n",
      "At index 22 and year 1902 the value of AnomalyF is: -0.45\n",
      "At index 23 and year 1903 the value of AnomalyF is: -0.6120000000000001\n",
      "At index 24 and year 1904 the value of AnomalyF is: -0.756\n",
      "At index 25 and year 1905 the value of AnomalyF is: -0.522\n",
      "At index 26 and year 1906 the value of AnomalyF is: -0.396\n",
      "At index 27 and year 1907 the value of AnomalyF is: -0.684\n",
      "At index 28 and year 1908 the value of AnomalyF is: -0.792\n",
      "At index 29 and year 1909 the value of AnomalyF is: -0.774\n",
      "At index 30 and year 1910 the value of AnomalyF is: -0.7020000000000001\n",
      "At index 31 and year 1911 the value of AnomalyF is: -0.792\n",
      "At index 32 and year 1912 the value of AnomalyF is: -0.5940000000000001\n",
      "At index 33 and year 1913 the value of AnomalyF is: -0.5760000000000001\n",
      "At index 34 and year 1914 the value of AnomalyF is: -0.25200000000000006\n",
      "At index 35 and year 1915 the value of AnomalyF is: -0.12600000000000003\n",
      "At index 36 and year 1916 the value of AnomalyF is: -0.522\n",
      "At index 37 and year 1917 the value of AnomalyF is: -0.558\n",
      "At index 38 and year 1918 the value of AnomalyF is: -0.36000000000000004\n",
      "At index 39 and year 1919 the value of AnomalyF is: -0.36000000000000004\n",
      "At index 40 and year 1920 the value of AnomalyF is: -0.378\n",
      "At index 41 and year 1921 the value of AnomalyF is: -0.25200000000000006\n",
      "At index 42 and year 1922 the value of AnomalyF is: -0.41400000000000003\n",
      "At index 43 and year 1923 the value of AnomalyF is: -0.378\n",
      "At index 44 and year 1924 the value of AnomalyF is: -0.45\n",
      "At index 45 and year 1925 the value of AnomalyF is: -0.25200000000000006\n",
      "At index 46 and year 1926 the value of AnomalyF is: -0.108\n",
      "At index 47 and year 1927 the value of AnomalyF is: -0.27\n",
      "At index 48 and year 1928 the value of AnomalyF is: -0.30600000000000005\n",
      "At index 49 and year 1929 the value of AnomalyF is: -0.522\n",
      "At index 50 and year 1930 the value of AnomalyF is: -0.18000000000000002\n",
      "At index 51 and year 1931 the value of AnomalyF is: -0.12600000000000003\n",
      "At index 52 and year 1932 the value of AnomalyF is: -0.216\n",
      "At index 53 and year 1933 the value of AnomalyF is: -0.45\n",
      "At index 54 and year 1934 the value of AnomalyF is: -0.18000000000000002\n",
      "At index 55 and year 1935 the value of AnomalyF is: -0.25200000000000006\n",
      "At index 56 and year 1936 the value of AnomalyF is: -0.198\n",
      "At index 57 and year 1937 the value of AnomalyF is: -0.036000000000000004\n",
      "At index 58 and year 1938 the value of AnomalyF is: -0.054\n",
      "At index 59 and year 1939 the value of AnomalyF is: -0.018000000000000002\n",
      "At index 60 and year 1940 the value of AnomalyF is: 0.18000000000000002\n",
      "At index 61 and year 1941 the value of AnomalyF is: 0.36000000000000004\n",
      "At index 62 and year 1942 the value of AnomalyF is: 0.27\n",
      "At index 63 and year 1943 the value of AnomalyF is: 0.28800000000000003\n",
      "At index 64 and year 1944 the value of AnomalyF is: 0.522\n",
      "At index 65 and year 1945 the value of AnomalyF is: 0.30600000000000005\n",
      "At index 66 and year 1946 the value of AnomalyF is: -0.0\n",
      "At index 67 and year 1947 the value of AnomalyF is: -0.09000000000000001\n",
      "At index 68 and year 1948 the value of AnomalyF is: -0.09000000000000001\n",
      "At index 69 and year 1949 the value of AnomalyF is: -0.108\n",
      "At index 70 and year 1950 the value of AnomalyF is: -0.28800000000000003\n",
      "At index 71 and year 1951 the value of AnomalyF is: -0.018000000000000002\n",
      "At index 72 and year 1952 the value of AnomalyF is: 0.054\n",
      "At index 73 and year 1953 the value of AnomalyF is: 0.18000000000000002\n",
      "At index 74 and year 1954 the value of AnomalyF is: -0.198\n",
      "At index 75 and year 1955 the value of AnomalyF is: -0.234\n",
      "At index 76 and year 1956 the value of AnomalyF is: -0.36000000000000004\n",
      "At index 77 and year 1957 the value of AnomalyF is: 0.09000000000000001\n",
      "At index 78 and year 1958 the value of AnomalyF is: 0.198\n",
      "At index 79 and year 1959 the value of AnomalyF is: 0.108\n",
      "At index 80 and year 1960 the value of AnomalyF is: 0.036000000000000004\n",
      "At index 81 and year 1961 the value of AnomalyF is: 0.14400000000000002\n",
      "At index 82 and year 1962 the value of AnomalyF is: 0.162\n",
      "At index 83 and year 1963 the value of AnomalyF is: 0.198\n",
      "At index 84 and year 1964 the value of AnomalyF is: -0.27\n",
      "At index 85 and year 1965 the value of AnomalyF is: -0.14400000000000002\n",
      "At index 86 and year 1966 the value of AnomalyF is: -0.036000000000000004\n",
      "At index 87 and year 1967 the value of AnomalyF is: -0.018000000000000002\n",
      "At index 88 and year 1968 the value of AnomalyF is: -0.054\n",
      "At index 89 and year 1969 the value of AnomalyF is: 0.162\n",
      "At index 90 and year 1970 the value of AnomalyF is: 0.07200000000000001\n",
      "At index 91 and year 1971 the value of AnomalyF is: -0.14400000000000002\n",
      "At index 92 and year 1972 the value of AnomalyF is: 0.054\n",
      "At index 93 and year 1973 the value of AnomalyF is: 0.28800000000000003\n",
      "At index 94 and year 1974 the value of AnomalyF is: -0.12600000000000003\n",
      "At index 95 and year 1975 the value of AnomalyF is: 0.0\n",
      "At index 96 and year 1976 the value of AnomalyF is: -0.14400000000000002\n",
      "At index 97 and year 1977 the value of AnomalyF is: 0.36000000000000004\n",
      "At index 98 and year 1978 the value of AnomalyF is: 0.198\n",
      "At index 99 and year 1979 the value of AnomalyF is: 0.41400000000000003\n",
      "At index 100 and year 1980 the value of AnomalyF is: 0.468\n",
      "At index 101 and year 1981 the value of AnomalyF is: 0.54\n",
      "At index 102 and year 1982 the value of AnomalyF is: 0.324\n",
      "At index 103 and year 1983 the value of AnomalyF is: 0.6120000000000001\n",
      "At index 104 and year 1984 the value of AnomalyF is: 0.27\n",
      "At index 105 and year 1985 the value of AnomalyF is: 0.25200000000000006\n",
      "At index 106 and year 1986 the value of AnomalyF is: 0.41400000000000003\n",
      "At index 107 and year 1987 the value of AnomalyF is: 0.666\n",
      "At index 108 and year 1988 the value of AnomalyF is: 0.684\n",
      "At index 109 and year 1989 the value of AnomalyF is: 0.54\n",
      "At index 110 and year 1990 the value of AnomalyF is: 0.774\n",
      "At index 111 and year 1991 the value of AnomalyF is: 0.7200000000000001\n",
      "At index 112 and year 1992 the value of AnomalyF is: 0.468\n",
      "At index 113 and year 1993 the value of AnomalyF is: 0.5040000000000001\n",
      "At index 114 and year 1994 the value of AnomalyF is: 0.6120000000000001\n",
      "At index 115 and year 1995 the value of AnomalyF is: 0.8280000000000001\n",
      "At index 116 and year 1996 the value of AnomalyF is: 0.5760000000000001\n",
      "At index 117 and year 1997 the value of AnomalyF is: 0.936\n",
      "At index 118 and year 1998 the value of AnomalyF is: 1.1340000000000001\n",
      "At index 119 and year 1999 the value of AnomalyF is: 0.792\n",
      "At index 120 and year 2000 the value of AnomalyF is: 0.756\n",
      "At index 121 and year 2001 the value of AnomalyF is: 0.9720000000000001\n",
      "At index 122 and year 2002 the value of AnomalyF is: 1.08\n",
      "At index 123 and year 2003 the value of AnomalyF is: 1.098\n",
      "At index 124 and year 2004 the value of AnomalyF is: 1.044\n",
      "At index 125 and year 2005 the value of AnomalyF is: 1.1880000000000002\n",
      "At index 126 and year 2006 the value of AnomalyF is: 1.098\n",
      "At index 127 and year 2007 the value of AnomalyF is: 1.098\n",
      "At index 128 and year 2008 the value of AnomalyF is: 0.9720000000000001\n",
      "At index 129 and year 2009 the value of AnomalyF is: 1.1520000000000001\n",
      "At index 130 and year 2010 the value of AnomalyF is: 1.26\n",
      "At index 131 and year 2011 the value of AnomalyF is: 1.044\n",
      "At index 132 and year 2012 the value of AnomalyF is: 1.1340000000000001\n",
      "At index 133 and year 2013 the value of AnomalyF is: 1.2060000000000002\n",
      "At index 134 and year 2014 the value of AnomalyF is: 1.332\n",
      "At index 135 and year 2015 the value of AnomalyF is: 1.62\n",
      "At index 136 and year 2016 the value of AnomalyF is: 1.692\n"
     ]
    }
   ],
   "source": [
    "#this one is a bit more complicated...but it's the same basic idea where enumerate for \n",
    "#numpy arrays is replaced with iterrows() for pandas dataframes, which is exactly what \n",
    "#it sounds like, iterate over rows :) \n",
    "\n",
    "for index, row in temperVarGlobal.iterrows():\n",
    "    #iterrates over the entirty of the dataframe\n",
    "    print(\"At index {} and year {} the value of AnomalyF is: {}\".format(index, row['Year'], \n",
    "                                                                        row['AnomalyF']))\n",
    "    "
   ]
  },
  {
   "cell_type": "code",
   "execution_count": 24,
   "metadata": {},
   "outputs": [],
   "source": [
    "#now lets actually assign colors, we can use if statments here another flow control structure\n",
    "\n",
    "#in words what this loop means: for every entry in our dataframe, see if > 0 or less < 0\n",
    "\n",
    "\n",
    "for index, row in temperVarGlobal.iterrows():\n",
    "    \n",
    "    #check if greater than 0\n",
    "    if row['AnomalyF'] > 0:\n",
    "        #set value in array as red\n",
    "        temperVarGlobal.at[index, 'Colors'] = 'r'\n",
    "    \n",
    "    #check if less than 0, or equal to\n",
    "    if row['AnomalyF'] <= 0:\n",
    "        #set value in array as blue\n",
    "        temperVarGlobal.at[index, 'Colors'] = 'b'\n"
   ]
  },
  {
   "cell_type": "markdown",
   "metadata": {},
   "source": [
    "### PAUSE. Think about what is happening in this loop. Explain it to your neighbor. When you are done chatting put your name tag down. \n",
    "\n",
    "'\n",
    "\n",
    "''\n",
    "\n",
    "'''\n",
    "\n",
    "''\n",
    "\n",
    "'"
   ]
  },
  {
   "cell_type": "code",
   "execution_count": 25,
   "metadata": {},
   "outputs": [
    {
     "name": "stdout",
     "output_type": "stream",
     "text": [
      "   Colors  AnomalyF\n",
      "50      b    -0.180\n",
      "51      b    -0.126\n",
      "52      b    -0.216\n",
      "53      b    -0.450\n",
      "54      b    -0.180\n",
      "55      b    -0.252\n",
      "56      b    -0.198\n",
      "57      b    -0.036\n",
      "58      b    -0.054\n",
      "59      b    -0.018\n",
      "60      r     0.180\n",
      "61      r     0.360\n",
      "62      r     0.270\n",
      "63      r     0.288\n",
      "64      r     0.522\n",
      "65      r     0.306\n",
      "66      b    -0.000\n",
      "67      b    -0.090\n",
      "68      b    -0.090\n",
      "69      b    -0.108\n",
      "70      b    -0.288\n"
     ]
    }
   ],
   "source": [
    "#let's check to see what this looks like, print from index 50 - 70\n",
    "#print both colors and anomalyF columns\n",
    "\n",
    "print(temperVarGlobal.loc[50:70, ['Colors', 'AnomalyF']])"
   ]
  },
  {
   "cell_type": "code",
   "execution_count": 26,
   "metadata": {},
   "outputs": [
    {
     "data": {
      "image/png": "[encoded data removed]",
      "text/plain": [
       "<matplotlib.figure.Figure at 0x113745b38>"
      ]
     },
     "metadata": {},
     "output_type": "display_data"
    }
   ],
   "source": [
    "#and now let's plot it!\n",
    "\n",
    "\n",
    "fig = plt.figure(figsize=(10, 5))\n",
    "fig.suptitle('Temperature Variants From 1880 - 2017 Global Averages', fontsize=20)\n",
    "\n",
    "#------------------------------------------------  we edited the following color statement ONLY\n",
    "plt.bar(temperVarGlobal['Year'], temperVarGlobal['AnomalyF'], width = 0.8, align='edge', \n",
    "        color = temperVarGlobal['Colors'])\n",
    "#------------------------------------------------\n",
    "\n",
    "plt.ylabel('Anomaly $\\degree$F', fontsize = 20)\n",
    "plt.xlabel('Year', fontsize = 20)\n",
    "\n",
    "plt.xticks(fontsize=16)\n",
    "plt.yticks(fontsize=16)\n",
    "plt.axhline(y=0.0, color='k', linestyle='--')\n",
    "\n",
    "plt.grid(color='gray', linestyle='dashed')"
   ]
  },
  {
   "cell_type": "markdown",
   "metadata": {},
   "source": [
    "### *Part 4. B. METHOD TWO  - Boolean Indexing.*\n",
    "\n",
    "In general python \"slows down\" with loops. It also allows for better programming LATER (in class) if we use what we\n",
    "call 'Boolean Indexing'.\n",
    "\n",
    "We use those logic statements before for greater or lesser and use them to select positions in the dataframe to then subset into our data. For example, all places with >0, all places with <0\n"
   ]
  },
  {
   "cell_type": "code",
   "execution_count": 27,
   "metadata": {},
   "outputs": [
    {
     "name": "stdout",
     "output_type": "stream",
     "text": [
      "0    -0.234\n",
      "1    -0.126\n",
      "2    -0.126\n",
      "3    -0.270\n",
      "4    -0.378\n",
      "5    -0.396\n",
      "6    -0.378\n",
      "7    -0.450\n",
      "8    -0.270\n",
      "9    -0.180\n",
      "10   -0.576\n",
      "Name: AnomalyF, dtype: float64\n",
      "0    False\n",
      "1    False\n",
      "2    False\n",
      "3    False\n",
      "4    False\n",
      "5    False\n",
      "6    False\n",
      "7    False\n",
      "8    False\n",
      "9    False\n",
      "Name: AnomalyF, dtype: bool\n"
     ]
    }
   ],
   "source": [
    "#Step One, create boolean arrays, we call these indexes\n",
    "booleanIndex = temperVarGlobal['AnomalyF'] > 0 \n",
    "\n",
    "print(temperVarGlobal.loc[0:10, 'AnomalyF'])\n",
    "print(booleanIndex[0:10])\n",
    "\n",
    "#let's see what these look like!"
   ]
  },
  {
   "cell_type": "code",
   "execution_count": 28,
   "metadata": {},
   "outputs": [
    {
     "name": "stdout",
     "output_type": "stream",
     "text": [
      "0    True\n",
      "1    True\n",
      "2    True\n",
      "3    True\n",
      "4    True\n",
      "5    True\n",
      "6    True\n",
      "7    True\n",
      "8    True\n",
      "9    True\n",
      "Name: AnomalyF, dtype: bool\n"
     ]
    }
   ],
   "source": [
    "#tilda flips the boolean index to the opposite truth value\n",
    "print(~booleanIndex[0:10])"
   ]
  },
  {
   "cell_type": "code",
   "execution_count": 29,
   "metadata": {},
   "outputs": [
    {
     "name": "stdout",
     "output_type": "stream",
     "text": [
      "   Colors  Colors2\n",
      "0       b  #64ACEA\n",
      "1       b  #64ACEA\n",
      "2       b  #64ACEA\n",
      "3       b  #64ACEA\n",
      "4       b  #64ACEA\n",
      "5       b  #64ACEA\n",
      "6       b  #64ACEA\n",
      "7       b  #64ACEA\n",
      "8       b  #64ACEA\n",
      "9       b  #64ACEA\n",
      "10      b  #64ACEA\n"
     ]
    }
   ],
   "source": [
    "#now rather than the for loop we can set up a different system\n",
    "temperVarGlobal['Colors2'] = 'k'\n",
    "temperVarGlobal.loc[booleanIndex, 'Colors2'] = '#9F4E58' \n",
    "temperVarGlobal.loc[~booleanIndex, 'Colors2'] = '#64ACEA'\n",
    "#and set the colors up here we use hex code - check out this website. \n",
    "#http://www.color-hex.com/color/90537c\n",
    "print(temperVarGlobal.loc[0:10, ['Colors', 'Colors2']])"
   ]
  },
  {
   "cell_type": "code",
   "execution_count": 30,
   "metadata": {},
   "outputs": [
    {
     "data": {
      "image/png": "[encoded data removed]",
      "text/plain": [
       "<matplotlib.figure.Figure at 0x113969b00>"
      ]
     },
     "metadata": {},
     "output_type": "display_data"
    }
   ],
   "source": [
    "fig = plt.figure(figsize=(10, 5))\n",
    "fig.suptitle('Temperature Variants From 1880 - 2017 Global Averages', fontsize=20)\n",
    "\n",
    "#-------- we edited the following color statement ONLY\n",
    "plt.bar(temperVarGlobal['Year'], temperVarGlobal['AnomalyF'], width = 0.8, align='edge', \n",
    "        color = temperVarGlobal['Colors2'])\n",
    "#----------\n",
    "\n",
    "plt.ylabel('Anomaly $\\degree$F', fontsize = 20)\n",
    "plt.xlabel('Year', fontsize = 20)\n",
    "\n",
    "plt.xticks(fontsize=16)\n",
    "plt.yticks(fontsize=16)\n",
    "plt.axhline(y=0.0, color='k', linestyle='--')\n",
    "\n",
    "plt.grid(color='gray', linestyle='dashed')\n",
    "\n",
    "#how to save figures - \n",
    "#this first command will not save with a white background, the second will\n",
    "plt.savefig('./Figures/TempVariants_GlobalYearlyAverages_Transparent.png', transparent=True)\n",
    "plt.savefig('./Figures/TempVariants_GlobalYearlyAverages.png')\n",
    "\n",
    "\n",
    "\n",
    "#please go see within your Jupyter folder the .png file"
   ]
  },
  {
   "cell_type": "markdown",
   "metadata": {},
   "source": [
    "### How did the methods we learn differ and compare to each other? The for loop vs the boolean index method? Specifically, did you like one more than the other?\n",
    "\n",
    "'\n",
    "\n",
    "''\n",
    "\n",
    "'''\n",
    "\n",
    "''''\n",
    "\n",
    "'''\n",
    "\n",
    "''\n",
    "\n",
    "'"
   ]
  },
  {
   "cell_type": "markdown",
   "metadata": {},
   "source": [
    "# SUMMARY\n",
    "\n",
    "From this lab you have learned the basics of python packages including: numpy, pandas, and matplotlib.pyplot. \n",
    "\n",
    "We have also learned about flow control structures (for loops, if statements) and how to access a pandas data frame through boolean indexing and through normal indexing and how to manipulate various columns here. \n",
    "\n",
    "Next time we will continue our learning of Python.\n",
    "\n",
    "Homework: Please complete homework 1 located in the file folder - due in 1.5 weeks on Friday the 25th. Office hours for this will be held on Friday - two days from now. If this time doesn't work please email me and we can arrange seperate hours. \n",
    "\n",
    "This homework should take no more than 4-5 hours but you should start early in case you have any questions or run into issues!"
   ]
  }
 ],
 "metadata": {
  "kernelspec": {
   "display_name": "Python 3",
   "language": "python",
   "name": "python3"
  },
  "language_info": {
   "codemirror_mode": {
    "name": "ipython",
    "version": 3
   },
   "file_extension": ".py",
   "mimetype": "text/x-python",
   "name": "python",
   "nbconvert_exporter": "python",
   "pygments_lexer": "ipython3",
   "version": "3.5.4"
  }
 },
 "nbformat": 4,
 "nbformat_minor": 2
}
